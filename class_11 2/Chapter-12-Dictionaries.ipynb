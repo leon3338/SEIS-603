{
 "cells": [
  {
   "cell_type": "markdown",
   "id": "f1fbe66b",
   "metadata": {},
   "source": [
    "Reading Lecture HTT12\n",
    "\n",
    "## Chapter 12: Dictionaries\n",
    "\n",
    "based on \"How to Think Like a Computer Scientist in Python\":\n",
    "\n",
    "https://runestone.academy/runestone/books/published/thinkcspy/Dictionaries/toctree.html\n",
    "\n",
    "***Summaries and this notebook by:***\n",
    "\n",
    "Eric V. Level  \n",
    "Graduate Programs in Software  \n",
    "University of St. Thomas, St. Paul, MN  \n"
   ]
  },
  {
   "cell_type": "markdown",
   "id": "c6fc1b86",
   "metadata": {},
   "source": [
    "### 12.1 – Dictionaries\n",
    "\n",
    "Python ***dictionaries*** are a new kind of collection, implementing a mapping type.\n",
    "\n",
    "Dictionaries map keys to values, with indexing syntax similar to strings and lists."
   ]
  },
  {
   "cell_type": "code",
   "execution_count": null,
   "id": "1f6d6adf",
   "metadata": {},
   "outputs": [],
   "source": [
    "my_dict = {1:47}  # a dictionary literal \n",
    "                  # => a dictionary with key single key int 1 and \n",
    "                  #  corresponding mapped value as int 47. \n",
    "        \n",
    "my_dict[2]=47     # add new (key,value) so my_dict[2] is int 47 \n",
    "print(my_dict)\n",
    "\n",
    "print(my_dict[1]) # prints 47\n",
    "\n",
    "my_dict[1] = 2209 # changes value for key 1 to 2209\n",
    "print(my_dict[1]) # prints 2209\n",
    "\n",
    "my_dict           # show final value of dictionary"
   ]
  },
  {
   "cell_type": "markdown",
   "id": "e3a904cb",
   "metadata": {},
   "source": [
    "Write the empty dictionary literal `d` as `{}`.\n",
    "\n",
    "Then add new value `v` mapped to key `k` by assigning `v` to `d[k]`: `d[k] = v`\n",
    "\n",
    "Values `v` can be any objects of **any** type.\n",
    "\n",
    "Keys `k` must be objects of any **immutable** type."
   ]
  },
  {
   "cell_type": "markdown",
   "id": "091cacb7",
   "metadata": {},
   "source": [
    "### 12.2 – Dictionary Operations\n",
    "\n",
    "`del` removes a key-value pair from a dictionary:"
   ]
  },
  {
   "cell_type": "markdown",
   "id": "3de31b7b",
   "metadata": {},
   "source": [
    "Try the following in HTT's CodeLens:  \n",
    "https://runestone.academy/runestone/books/published/thinkcspy/Dictionaries/Dictionaryoperations.html#dictionary-operations"
   ]
  },
  {
   "cell_type": "markdown",
   "id": "bda27dc4",
   "metadata": {},
   "source": [
    "`del my_dict[1]` => Removes the `(key,value)` pair `(1,mydict[1]`) from the dictionary.\n",
    "- We can ***delete a mapping***.\n",
    "\n",
    "This gives another way of **mutating** a dictionary's state.  Therefore...\n",
    "\n",
    "- ***Dictionaries are mutable***.\n",
    "\t\n",
    "Often we change an existing key's value by incrementing it:"
   ]
  },
  {
   "cell_type": "markdown",
   "id": "f9aa7121",
   "metadata": {},
   "source": [
    "\"Add 200 bananas to inventory\" => HTT's CodeLens:  \n",
    "https://runestone.academy/runestone/books/published/thinkcspy/Dictionaries/Dictionaryoperations.html#ch12_dict5"
   ]
  },
  {
   "cell_type": "code",
   "execution_count": null,
   "id": "e417f579",
   "metadata": {},
   "outputs": [],
   "source": [
    "num_sightings = {4:0}\n",
    "num_sightings[47] = num_sightings[47] + 1\n",
    "print (num_sightings)"
   ]
  },
  {
   "cell_type": "code",
   "execution_count": null,
   "id": "d5209f8c",
   "metadata": {},
   "outputs": [],
   "source": [
    "if num_sightings.get(100)==None:\n",
    "    num_sightings[100] = 0\n",
    "else:\n",
    "    num_sightings[100] = num_sightings[100] + 1\n",
    "    \n",
    "    print (num_sightings.get(100))"
   ]
  },
  {
   "cell_type": "markdown",
   "id": "5addbe25",
   "metadata": {},
   "source": [
    "### 12.3 – Dictionary Methods\n",
    "\n",
    "Objects have methods, with dictionary objects having these: "
   ]
  },
  {
   "cell_type": "markdown",
   "id": "06e07883",
   "metadata": {},
   "source": [
    "<img src=\"images/image-12-3-1.png\" width=\"800\" height=\"800\" align=\"left\"/>"
   ]
  },
  {
   "cell_type": "markdown",
   "id": "9eb27cf2",
   "metadata": {},
   "source": [
    "The `keys()` method returns a view of the underlying keys.\n",
    "\n",
    "We can iterate over the view, or convert to a list:"
   ]
  },
  {
   "cell_type": "code",
   "execution_count": null,
   "id": "19bfe733",
   "metadata": {},
   "outputs": [],
   "source": [
    "# _12_3_1_chp12_dict6.py\n",
    "\n",
    "inventory = {'apples': 430, 'bananas': 312, 'oranges': 525, 'pears': 217}\n",
    "\n",
    "for akey in inventory.keys():     # the order in which we get the keys is not defined\n",
    "   print(\"Got key\", akey, \"which maps to value\", inventory[akey])\n",
    "\n",
    "ks = list(inventory.keys())\n",
    "print(ks)\n",
    "\n",
    "print (inventory)"
   ]
  },
  {
   "cell_type": "code",
   "execution_count": null,
   "id": "4ac43a53",
   "metadata": {},
   "outputs": [],
   "source": [
    "# _12_3_2_chp12_dict6.py\n",
    "\n",
    "inventory = {'apples': 430, 'bananas': 312, 'oranges': 525, 'pears': 217}\n",
    "\n",
    "for akey in inventory.keys():     # the order in which we get the keys is not defined\n",
    "   print(\"Got key\", akey, \"which maps to value\", inventory[akey])\n",
    "\n",
    "ks = list(inventory.keys()) # get list of all keys\n",
    "\n",
    "print(ks) # print the list\n"
   ]
  },
  {
   "cell_type": "markdown",
   "id": "d93e6c33",
   "metadata": {},
   "source": [
    "Iterating over all keys in a dictionary is common, so here's a shortcut (no `.keys()` on dictionary name in `for`):"
   ]
  },
  {
   "cell_type": "code",
   "execution_count": null,
   "id": "bbbed8f6",
   "metadata": {},
   "outputs": [],
   "source": [
    "# _12_3_1_chp12_dict7.py\n",
    "\n",
    "inventory = {'apples': 430, 'bananas': 312, 'oranges': 525, 'pears': 217}\n",
    "\n",
    "for k in inventory:\n",
    "   print(\"Got key\", k)"
   ]
  },
  {
   "cell_type": "markdown",
   "id": "118cd417",
   "metadata": {},
   "source": [
    "We can iterate over __all__ keys or over __all_ values within a dictionary:"
   ]
  },
  {
   "cell_type": "code",
   "execution_count": null,
   "id": "5408dc57",
   "metadata": {},
   "outputs": [],
   "source": [
    "inventory = {'apples': 430, 'bananas': 312, 'oranges': 525, 'pears': 217}\n",
    "\n",
    "for akey in inventory.keys(): # order not defined    \n",
    "    print(akey, \"maps to value\", inventory[akey]) "
   ]
  },
  {
   "cell_type": "code",
   "execution_count": null,
   "id": "8b94ab8e",
   "metadata": {},
   "outputs": [],
   "source": [
    "inventory = {'apples': 430, 'bananas': 312, 'oranges': 525, 'pears': 217}\n",
    "for v in inventory.values(): # not ordered   \n",
    "    print(v) #"
   ]
  },
  {
   "cell_type": "markdown",
   "id": "cc44a00b",
   "metadata": {},
   "source": [
    "We can iterate over all dictionary `(key,value)` pairs: the ***items*** in a dictionary:"
   ]
  },
  {
   "cell_type": "code",
   "execution_count": null,
   "id": "9c184c68",
   "metadata": {},
   "outputs": [],
   "source": [
    "inventory = {'apples': 430, 'bananas': 312, 'oranges': 525, 'pears': 217}\n",
    "for (k,v) in inventory.items():     # note tuple assignment here    \n",
    "    print(f\"inventory[{k}] is {v}\")    \n",
    "    print(inventory[k]) "
   ]
  },
  {
   "cell_type": "markdown",
   "id": "57dce867",
   "metadata": {},
   "source": [
    "`in` and `not in` are useful `bool` dictionary operators:"
   ]
  },
  {
   "cell_type": "code",
   "execution_count": null,
   "id": "9e5c68c7",
   "metadata": {},
   "outputs": [],
   "source": [
    "# _12_3_4_chp12_dict9.py\n",
    "\n",
    "inventory = {'apples': 430, 'bananas': 312, 'oranges': 525, 'pears': 217}\n",
    "print('apples' in inventory)\n",
    "print('cherries' in inventory)\n",
    "\n",
    "del inventory['bananas']\n",
    "if 'bananas' in inventory:\n",
    "    print(inventory['bananas'])\n",
    "else:\n",
    "    print(\"We have no bananas\")\n"
   ]
  },
  {
   "cell_type": "markdown",
   "id": "97b019c3",
   "metadata": {},
   "source": [
    "Use them to defend against errors such as accessing a non-existent key:"
   ]
  },
  {
   "cell_type": "code",
   "execution_count": null,
   "id": "d18e4e19",
   "metadata": {
    "scrolled": true
   },
   "outputs": [],
   "source": [
    "inventory = {'apples': 430, 'bananas': 312, 'oranges': 525, 'pears': 217}\n",
    "k = \"durian\"\n",
    "if k in inventory.keys():\n",
    "    print(inventory[k]) # no runtime error\n",
    "else:\n",
    "    print (f'no {k} in inventory') # assumes k is string here"
   ]
  },
  {
   "cell_type": "markdown",
   "id": "6cdae5aa",
   "metadata": {},
   "source": [
    "`get(k)` and `get(k,def_value`) are other methods to avoid this:"
   ]
  },
  {
   "cell_type": "markdown",
   "id": "cba57401",
   "metadata": {},
   "source": [
    "- `inventory.get(k)` => Returns `None` if `k` ***not*** a key  \n",
    "- `inventory.get(k,0)` => Returns a default value of `0` if `k` ***not*** a key "
   ]
  },
  {
   "cell_type": "code",
   "execution_count": null,
   "id": "5113e4ed",
   "metadata": {},
   "outputs": [],
   "source": [
    "# _12_3_5_chp12_dict10.py\n",
    "\n",
    "inventory = {'apples': 430, 'bananas': 312, 'oranges': 525, 'pears': 217}\n",
    "\n",
    "print(inventory.get(\"apples\"))   # apples are in dict\n",
    "print(inventory.get(\"cherries\")) # no cherries in dict => None returned\n",
    "print(inventory.get(\"cherries\", 0)) # return 0 if no cherries..\n",
    "\n",
    "print(inventory)"
   ]
  },
  {
   "cell_type": "markdown",
   "id": "c7fbd895",
   "metadata": {},
   "source": [
    "### 12.4 – Aliasing and Copying\n",
    "\n",
    "Aliasing is possible since dictionaries are ***mutable***:"
   ]
  },
  {
   "cell_type": "code",
   "execution_count": null,
   "id": "3cccd2da",
   "metadata": {},
   "outputs": [],
   "source": [
    "mydict = {1:'M',2:'T',3:'W',4:'Th',5:'F'}\n",
    "\n",
    "dict_alias = mydict # both refer to same dictionary\n",
    "\n",
    "dict_alias[2]='Tu' # mutates mydict\n",
    "\n",
    "print (mydict)     # {1:'M', 2:'Tu', 3:'W', 4:'Th', 5:'F'}\n",
    "\n",
    "# alias changes are visible through mydict \n",
    "\n",
    "print(mydict is dict_alias) # True"
   ]
  },
  {
   "cell_type": "markdown",
   "id": "48ab02ba",
   "metadata": {},
   "source": [
    "To clone a dictionary, use its `copy()` method:"
   ]
  },
  {
   "cell_type": "code",
   "execution_count": null,
   "id": "e2fd08c1",
   "metadata": {},
   "outputs": [],
   "source": [
    "mydict = {1:'Mo',2:'T',3:'W',4:'Th',5:'F'}\n",
    "\n",
    "dict_alias2 = mydict.copy() # send in the clones\u000b",
    "\n",
    "dict_alias2[2]='Tu'  # mutates clone – ONLY\n",
    "# print (mydict) # original is unchanged\n",
    "\n",
    "# {1:'M', 2:'T', 3:'W', 4:'T', 5:'F'} \n",
    "# original unchanged\n",
    "print (my_dict) \n",
    "# but mutated copy has been altered\n",
    "# {1:'M', 2:'Tu', 3:'W', 4:'T', 5:'F'} \n",
    "# \n",
    "print (dict_alias2)"
   ]
  },
  {
   "cell_type": "code",
   "execution_count": null,
   "id": "fc375ebd",
   "metadata": {},
   "outputs": [],
   "source": [
    "### 12.5 – Sparse Matrices\n",
    "\n",
    "A matrix is a two-dimensional array.\n",
    "\n",
    "Python supports these as lists of lists:\n",
    "    "
   ]
  },
  {
   "cell_type": "code",
   "execution_count": null,
   "id": "a3fe5fa8",
   "metadata": {},
   "outputs": [],
   "source": [
    "matrix = [[0,0,0,1,0],\n",
    "          [0,0,0,0,0],\n",
    "          [0,2,0,0,0],\n",
    "          [0,0,0,0,0], \n",
    "          [0,0,0,3,0]]\n",
    "\n",
    "matrix\n",
    "# The above represents a 5 by 5 matrix like this:"
   ]
  },
  {
   "cell_type": "markdown",
   "id": "fca346ea",
   "metadata": {},
   "source": [
    "<img src=\"images/image-12-5-1.png\" width=\"200\" height=\"200\" align=\"left\"/>"
   ]
  },
  {
   "cell_type": "markdown",
   "id": "bea6123c",
   "metadata": {},
   "source": [
    "This matrix is mostly 0's: a ***sparse matrix***\n",
    "\n",
    "Use a dictionary to reduce storage of unnecessary 0's:"
   ]
  },
  {
   "cell_type": "markdown",
   "id": "4b404676",
   "metadata": {},
   "source": [
    "Retrieve values using `.get((row,col),0)`:"
   ]
  },
  {
   "cell_type": "code",
   "execution_count": null,
   "id": "cde8cc0e",
   "metadata": {},
   "outputs": [],
   "source": [
    "# _12_5_1_chp12_sparse.py\n",
    "\n",
    "dict_matrix = {(0,3):1,(2,1):2,(4,3):3} # all other entries are 0\n",
    "print(dict_matrix.get((0,3), 0)) # prints 1\n",
    "print(dict_matrix.get((1,3), 0)) # prints 0 (no such key)"
   ]
  },
  {
   "cell_type": "markdown",
   "id": "ed214648",
   "metadata": {},
   "source": [
    "Later, we'll look at more efficient ways of representing matrices...\u000b"
   ]
  },
  {
   "cell_type": "markdown",
   "id": "e7cadb75",
   "metadata": {},
   "source": [
    "### Lab 11-1 Demo:\n",
    "\n",
    "The following three programs compare the performance of three kinds of lookup.\n",
    "\n",
    "Each program works with collection of `SIZE` ints.\n",
    "\n",
    "Each element in the collection is a random integer in the `range(2*SIZE)`.\n",
    "\n",
    "- Two collections are lists of `int`s, each of length `SIZE`.\n",
    "\n",
    "- The third is a dictionary, with each random `int` as a key.\n",
    "\n",
    "Each program first generates a random search `int` in the `range(2*SIZE)`.\n",
    "\n",
    "Then it searches through its collection to see if it's there - or not.\n",
    "\n",
    "- The first program searches through its list linearly: starting with the first, and continuing until either the search `int` is found, or determined not to be part of the list.\n",
    "\n",
    "- The second program first sorts its list, then uses binary search to see if the search `int` is there.\n",
    "\n",
    "- The third program checks if the search `int` is a key in the dictionary.\n",
    "\n",
    "`%timeit` is used to compare the performance of these three approaches to searching a collection..."
   ]
  },
  {
   "cell_type": "code",
   "execution_count": 32,
   "id": "15e3ddff",
   "metadata": {},
   "outputs": [],
   "source": [
    "#\n",
    "#  functions for building search list and search dictionary\n",
    "#\n",
    "\n",
    "import random\n",
    "\n",
    "SIZE = 1000  # we'll run the following for multiple values of SIZE\n",
    "\n",
    "# generate a list to_search of length SIZE, such that\n",
    "#  each element has random int in range(2*SIZE)\n",
    "\n",
    "def build_search_list():\n",
    "    \n",
    "    to_search = []\n",
    "    for index in range(SIZE):\n",
    "        to_search.append(random.randrange(2 * SIZE))\n",
    "\n",
    "    # randomize it!\n",
    "\n",
    "    random.shuffle(to_search)\n",
    "    \n",
    "    return to_search\n",
    "\n",
    "# build dictionary dict_search with\n",
    "#    dict_search[i] = to_search[i]\n",
    "# for i in range(SIZE)\n",
    "\n",
    "def build_search_dict():\n",
    "    \n",
    "    to_search = []\n",
    "    for index in range(SIZE):\n",
    "        to_search.append(random.randrange(2 * SIZE))\n",
    "\n",
    "    # randomize it!\n",
    "\n",
    "    random.shuffle(to_search)\n",
    "\n",
    "    dict_search = {}\n",
    "\n",
    "    for index, search_int in enumerate(to_search):\n",
    "        dict_search[search_int] = index # key search_int is element to search for, index its location in to_search\n",
    "\n",
    "    return dict_search\n"
   ]
  },
  {
   "cell_type": "code",
   "execution_count": null,
   "id": "d902e98c",
   "metadata": {},
   "outputs": [],
   "source": [
    "%%timeit?"
   ]
  },
  {
   "cell_type": "code",
   "execution_count": 33,
   "id": "617735d5",
   "metadata": {},
   "outputs": [
    {
     "name": "stdout",
     "output_type": "stream",
     "text": [
      "5.22 ms ± 599 µs per loop (mean ± std. dev. of 7 runs, 100 loops each)\n"
     ]
    }
   ],
   "source": [
    "%%timeit\n",
    "\n",
    "global linear_search_list # this is needed to allow access to the list below\n",
    "\n",
    "linear_search_list = build_search_list() "
   ]
  },
  {
   "cell_type": "code",
   "execution_count": 34,
   "id": "a194c574",
   "metadata": {},
   "outputs": [
    {
     "name": "stdout",
     "output_type": "stream",
     "text": [
      "171 µs ± 13.3 µs per loop (mean ± std. dev. of 7 runs, 10000 loops each)\n"
     ]
    }
   ],
   "source": [
    "%%timeit\n",
    "\n",
    "#### search for random to_find using linear search\n",
    "\n",
    "to_find = random.randrange(2 * SIZE)\n",
    "\n",
    "foundit = False\n",
    "for elt in linear_search_list:\n",
    "    if elt==to_find:\n",
    "        # print (f'found it at {index}')\n",
    "        foundit = True\n",
    "        break\n",
    "if not foundit:\n",
    "    pass # print (\"not found.\")"
   ]
  },
  {
   "cell_type": "code",
   "execution_count": 35,
   "id": "832df065",
   "metadata": {},
   "outputs": [
    {
     "name": "stdout",
     "output_type": "stream",
     "text": [
      "8.19 ms ± 605 µs per loop (mean ± std. dev. of 7 runs, 100 loops each)\n"
     ]
    }
   ],
   "source": [
    "%%timeit\n",
    "\n",
    "global binary_search_list\n",
    "\n",
    "binary_search_list = build_search_list()\n",
    "binary_search_list.sort() # needed for binary search"
   ]
  },
  {
   "cell_type": "code",
   "execution_count": 36,
   "id": "43196219",
   "metadata": {},
   "outputs": [
    {
     "name": "stdout",
     "output_type": "stream",
     "text": [
      "10.2 µs ± 521 ns per loop (mean ± std. dev. of 7 runs, 100000 loops each)\n"
     ]
    }
   ],
   "source": [
    "%%timeit\n",
    "\n",
    "#### search for random to_find using binary search (avg search time ~log SIZE)\n",
    "\n",
    "to_find = random.randrange(2 * SIZE) # may not be found! \n",
    "\n",
    "foundit = False\n",
    "upper = SIZE - 1\n",
    "lower = 0\n",
    "while upper >= lower:\n",
    "    guess = (upper + lower) // 2  # middle elt between upper, lower bounds\n",
    "    if binary_search_list[guess] == to_find:\n",
    "        # print(f\"found it @ binary_search_list[{guess}]\")\n",
    "        foundit = True\n",
    "        break\n",
    "    elif binary_search_list[guess] < to_find:\n",
    "        lower = guess + 1\n",
    "    else:\n",
    "        upper = guess - 1\n",
    "\n",
    "if foundit:\n",
    "    pass # print (f\"found at {guess}\")\n",
    "else:\n",
    "    pass # print(\"not found.\")"
   ]
  },
  {
   "cell_type": "code",
   "execution_count": 37,
   "id": "f92ee803",
   "metadata": {},
   "outputs": [
    {
     "name": "stdout",
     "output_type": "stream",
     "text": [
      "3.94 ms ± 203 µs per loop (mean ± std. dev. of 7 runs, 100 loops each)\n"
     ]
    }
   ],
   "source": [
    "%%timeit\n",
    "\n",
    "global search_dict\n",
    "\n",
    "search_dict = build_search_dict()"
   ]
  },
  {
   "cell_type": "code",
   "execution_count": 38,
   "id": "5c73e40f",
   "metadata": {},
   "outputs": [
    {
     "name": "stdout",
     "output_type": "stream",
     "text": [
      "2.32 µs ± 84.1 ns per loop (mean ± std. dev. of 7 runs, 100000 loops each)\n"
     ]
    }
   ],
   "source": [
    "%%timeit\n",
    "\n",
    "to_find = random.randrange(2 * SIZE)\n",
    "\n",
    "#### search search for random to_find via key in dict_search.keys()\n",
    "\n",
    "if to_find in search_dict:\n",
    "    pass # print (found it)"
   ]
  },
  {
   "cell_type": "markdown",
   "id": "f72119cd",
   "metadata": {},
   "source": [
    "### 12.6 – Glossary\n",
    "\n",
    "Dictionaries are Python's associative arrays: http://en.wikipedia.org/wiki/Associative_array"
   ]
  },
  {
   "cell_type": "markdown",
   "id": "817dbc61",
   "metadata": {},
   "source": [
    "Know these!\n",
    "\n",
    "***`dictionary`***\n",
    "\n",
    "A collection of key-value pairs that maps from keys to values. The keys can be any immutable type, and the values can be any type.\n",
    "\n",
    "***`key`***\n",
    "\n",
    "A data item that is mapped to a value in a dictionary. Keys are used to look up values in a dictionary.\n",
    "\n",
    "***`key-value pair`***\n",
    "\n",
    "One of the pairs of items in a dictionary. Values are looked up in a dictionary by key.\n",
    "\n",
    "***`mapping type`***\n",
    "\n",
    "A mapping type is a data type comprised of a collection of keys and associated values. Python’s only built-in mapping type is the dictionary. Dictionaries implement the associative array abstract data type.\n",
    "\n"
   ]
  }
 ],
 "metadata": {
  "kernelspec": {
   "display_name": "Python 3 (ipykernel)",
   "language": "python",
   "name": "python3"
  },
  "language_info": {
   "codemirror_mode": {
    "name": "ipython",
    "version": 3
   },
   "file_extension": ".py",
   "mimetype": "text/x-python",
   "name": "python",
   "nbconvert_exporter": "python",
   "pygments_lexer": "ipython3",
   "version": "3.9.7"
  }
 },
 "nbformat": 4,
 "nbformat_minor": 5
}
