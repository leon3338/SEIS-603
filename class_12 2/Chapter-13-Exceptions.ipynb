{
 "cells": [
  {
   "cell_type": "markdown",
   "id": "47ca5c95",
   "metadata": {},
   "source": [
    "Reading Lecture HTT13\n",
    "\n",
    "## Chapter 13: Exceptions\n",
    "\n",
    "based on \"How to Think Like a Computer Scientist in Python\":\n",
    "\n",
    "https://runestone.academy/runestone/books/published/thinkcspy/Exceptions/toctree.html\n",
    "\n",
    "Summaries and this notebook by:\n",
    "\n",
    "Eric V. Level  \n",
    "Graduate Programs in Software  \n",
    "University of St. Thomas, St. Paul, MN  \n"
   ]
  },
  {
   "cell_type": "markdown",
   "id": "4b561e47",
   "metadata": {},
   "source": [
    "### 13.1 – What is an Exception?\n",
    "\n",
    "Python ***exceptions*** are \"thrown\" at runtime, and __interrupt the normal program flow of control__.\n",
    "\n",
    "Exceptions ***signal*** that some special condition has occurred.\n",
    "\n",
    "Exception handling ***alters*** __the normal sequential Python flow-of-control__."
   ]
  },
  {
   "cell_type": "markdown",
   "id": "8077c3bb",
   "metadata": {},
   "source": [
    "### 13.2 - Exception Handling Flow-of-Control"
   ]
  },
  {
   "cell_type": "markdown",
   "id": "9d726376",
   "metadata": {},
   "source": [
    "#### Conditional flow-of-control:\n",
    "\n",
    "- Conditionals (`if`-statements `if s1: r1 else: r2`), where only one statement or block will be selected and executed:\n",
    "\n",
    "     if `s1` evaluates to `True`, execute `if`-body `r1`,  otherwise \"jump\" and execute `r2`.\n",
    "        AFTER entire `if`-statement executes, \"jump\" to next statement.\n",
    "        \n",
    "     Similar behavior for `if..else`, `if..elif..elif..else` statements.\n",
    "\n",
    "     Thus: **non-sequential flow-of-control** => \"jumping\" or from statement to statement."
   ]
  },
  {
   "cell_type": "markdown",
   "id": "bd883d40",
   "metadata": {},
   "source": [
    "#### Iterable flow-of-control:\n",
    "\n",
    "- Iterables (`for` and `while`-statement), where a collection of statements is repeatedly executed.\n",
    "\n",
    "     `for`- and `while`-loops also have non-sequential flow-of-control.\n",
    "\n",
    "     At bottom of any loop block, jump to start of loop and check if loop should continue.  \n",
    "    (`for`-loops also automagically update loop variables.)\n",
    "\n",
    "     If loop ends, skip over entire loop body, \"jumping\" to execute the statement after the entire loop statement."
   ]
  },
  {
   "cell_type": "markdown",
   "id": "7c376895",
   "metadata": {},
   "source": [
    "#### Functional flow-of-control:\n",
    "\n",
    "- Functionals (function calls `f(p)`), where a collection of statements is named, parameterized, then later executed and returning a value.\n",
    "\n",
    "    Function calls also involve non-sequential control flow:\n",
    "\n",
    "    - On call, evaluate actual parameters (args), then jump to function definition body, copying actuals to formals. \n",
    "\n",
    "    - Then execute function body, and return value upon return – or None if control reaches end of body. \n",
    "\n",
    "    - Then jump back to place of call, returning value that replaces the calling code.  \n",
    "\n",
    "\n",
    "- Python manages function flow-of-control using the **runtime stack**:\n",
    "\n",
    "    Each function call creates a new \"stack frame\" (area of memory) that holds all local variables and formal (header) parameters, as well as caller's location to which to return => if function terminates normally.\n",
    "\n",
    "    New stack frame is pushed on the top of the run-time stack; this top frame (memory with objects) is then used while executing current function invocation.\n",
    "\n",
    "    When function returns, jump back to place of call, and remove (\"pop\") the stack frame, making the previous frame active – thus resuming the caller's access to the previous-frame's variables and such."
   ]
  },
  {
   "cell_type": "markdown",
   "id": "304facf7",
   "metadata": {},
   "source": [
    "### 13.2.1: Raising and Catching Errors with `try` and `except`"
   ]
  },
  {
   "cell_type": "markdown",
   "id": "d17ab7cf",
   "metadata": {},
   "source": [
    "With `try/except`, you tell the Python interpreter:  \n",
    "\n",
    "- Try to execute one or more lines of code, within the `try` ***block*** or clause."
   ]
  },
  {
   "cell_type": "code",
   "execution_count": null,
   "id": "04812957",
   "metadata": {},
   "outputs": [],
   "source": [
    "#### note the colons : after both try and except\n",
    "try: \n",
    "   pass # <try clause code block>\n",
    "except Exception: # or whatever <ErrorType> to catch\n",
    "   pass # <exception handler code block>"
   ]
  },
  {
   "cell_type": "markdown",
   "id": "6c926f82",
   "metadata": {},
   "source": [
    "When an exception (run-time error) occurs within a `try` block, Python ***skips executing the rest of the block***, jumping instead to the nearest runtime `except` handler – if one can be found in currently-executing function.\n",
    "\n",
    "If no `except` handler found, Python searches for handler at place of call: ***exception is \"rethrown\" to caller***.\n",
    "\n",
    "If no handler found in caller, continue searching within the \"caller's caller\" and beyond, moving up through the \"calling chain\".\n",
    "\n",
    "- If handler found, execute its matching `except:`.\n",
    "- If no handler found, execution ends and the exception is printed."
   ]
  },
  {
   "cell_type": "markdown",
   "id": "19d7beca",
   "metadata": {},
   "source": [
    "Several examples of code throwing exceptions:"
   ]
  },
  {
   "cell_type": "code",
   "execution_count": null,
   "id": "08a67abf",
   "metadata": {},
   "outputs": [],
   "source": [
    "#_13_2_1_1_exceptions_1.py\n",
    "# throws an IndexError\n",
    "\n",
    "items = ['a', 'b']\n",
    "third = items[2]"
   ]
  },
  {
   "cell_type": "code",
   "execution_count": null,
   "id": "487e13df",
   "metadata": {},
   "outputs": [],
   "source": [
    "#_13_2_1_1_exceptions_1.py\n",
    "# throws a ZeroDivisionError, which is also an ArithmetricError\n",
    "\n",
    "x = 5\n",
    "y = x/0"
   ]
  },
  {
   "cell_type": "markdown",
   "id": "3900ae68",
   "metadata": {},
   "source": [
    "If the entire `try`-block of code executes **without** any run-time errors, continue executing rest of program ***after*** the `try/except` statement."
   ]
  },
  {
   "cell_type": "code",
   "execution_count": null,
   "id": "f3a33537",
   "metadata": {},
   "outputs": [],
   "source": [
    "#_13_2_1_1_exceptions_1.py + added print() statements\n",
    "# throws an IndexError, but caught by except:\n",
    "\n",
    "try:\n",
    "    # start of try:except: block\n",
    "    print(\"start of block\")\n",
    "    items = ['a', 'b']\n",
    "    print (\"before out-of-bounds indexing\")\n",
    "    third = items[2]\n",
    "    print(\"This won't print\")\n",
    "except: # different than book: no Exception means \"catch all Exceptions\"\n",
    "    print(\"got an error\")\n",
    "    print(\"we could do more here\")\n",
    "\n",
    "print(\"continuing\") # first statement AFTER try:except:\n"
   ]
  },
  {
   "cell_type": "markdown",
   "id": "51dfe9d4",
   "metadata": {},
   "source": [
    "If a run-time error (exception) ***does*** occur during execution of the block of code:\n",
    "\n",
    "- Skip the rest of that block of code (but don’t exit the whole program)\n",
    "- Execute a block of code in the “except” clause then carry on with the rest of the program after the try/except statement"
   ]
  },
  {
   "cell_type": "code",
   "execution_count": null,
   "id": "f0b541a8",
   "metadata": {},
   "outputs": [],
   "source": [
    "#_13_2_1_4_exceptions_4.py + added print statements\n",
    "\n",
    "try:C\n",
    "    items = ['a', 'b']\n",
    "    third = items[2]\n",
    "    print(\"This won't print\") # skip the rest of the try-block after exception occurs\n",
    "except IndexError: # will catch only this specific Exception\n",
    "    print(\"error 1\")\n",
    "\n",
    "print(\"continuing\")\n",
    "\n",
    "try:\n",
    "    x = 5\n",
    "    y = x/0 # this tries to divide by 0, which throws a ZeroDivisionError exception...\n",
    "    print(\"This won't print, either\") # ...skipping over this statement...\n",
    "except IndexError: # ... but NOT handled here: ZeroDivisionError is not directly related to IndexError\n",
    "    print(\"error 2\") # and this is NOT executed: \n",
    "                     # instead, ZDError is rethrown to the caller of this function (here, Python runtime)\n",
    "\n",
    "print(\"continuing again\") # never reached: Python runtime ignores code after place where thrown\n",
    "\n",
    "# Now try removing IndexError from above and then rerun!\n"
   ]
  },
  {
   "cell_type": "markdown",
   "id": "dcb0dbf8",
   "metadata": {},
   "source": [
    "**Here's another exception handling feature:** \n",
    "\n",
    "- The exception handler may access a variable like this: `...except Exception as e`.\n",
    "\n",
    "- Here `e` is a variable of same type as thrown exception, and provides additional info:"
   ]
  },
  {
   "cell_type": "code",
   "execution_count": null,
   "id": "a3a2a585",
   "metadata": {},
   "outputs": [],
   "source": [
    "# _13_2_1_5_exceptions_5.py\n",
    "\n",
    "try:\n",
    "    items = ['a', 'b']\n",
    "    third = items[2]\n",
    "    print(\"This won't print\")\n",
    "except Exception as e:\n",
    "    print(\"got an error\")\n",
    "    print(e)\n",
    "\n",
    "print(\"continuing\")\n"
   ]
  },
  {
   "cell_type": "markdown",
   "id": "e3dcb11f",
   "metadata": {},
   "source": [
    "### 13.3 – Runtime Stack and `raise` command\n",
    "\n",
    "Sometimes sequential flow-of-control doesn't occur.  Here's an example:"
   ]
  },
  {
   "cell_type": "markdown",
   "id": "df49fc31",
   "metadata": {},
   "source": [
    "<img src=\"images/_13_3_1-image.png\" width=\"600\" height=\"600\" align=\"left\"/>"
   ]
  },
  {
   "cell_type": "markdown",
   "id": "393d8495",
   "metadata": {},
   "source": [
    "If function `D()` decides normal processing won't work, can it send a message to its caller?\n",
    "\n",
    "- __No__: with normal functional flow-of-control, it can only return a value.\n",
    "- If `D()` returns a value that indicates this, `D()`'s caller `C()` will also need to return to its caller `B()`, and so on up the call chain.\n",
    "\n",
    "Instead: __exceptions are messages to any function waiting for a return__ (==on the current runtime-stack)."
   ]
  },
  {
   "cell_type": "markdown",
   "id": "c20bec9a",
   "metadata": {},
   "source": [
    "Raise your own exceptions using the `raise` command.\n",
    "\n",
    "- Here, `D()` handles its own exception:"
   ]
  },
  {
   "cell_type": "markdown",
   "id": "892f5f88",
   "metadata": {},
   "source": [
    "<img src=\"images/_13_3_2-image.png\" width=\"600\" height=\"600\" align=\"left\"/>"
   ]
  },
  {
   "cell_type": "markdown",
   "id": "c430a83e",
   "metadata": {},
   "source": [
    "You could have `C()` instead of `D()` try to handle the raised exception:"
   ]
  },
  {
   "cell_type": "markdown",
   "id": "c4693506",
   "metadata": {},
   "source": [
    "<img src=\"images/_13_3_3-image.png\" width=\"600\" height=\"600\" align=\"left\"/>"
   ]
  },
  {
   "cell_type": "markdown",
   "id": "924a23f0",
   "metadata": {},
   "source": [
    "Or maybe you'd prefer `main()` handling the exception:"
   ]
  },
  {
   "cell_type": "markdown",
   "id": "cc91dda3",
   "metadata": {},
   "source": [
    "<img src=\"images/_13_3_4-image.png\" width=\"600\" height=\"600\" align=\"left\"/>"
   ]
  },
  {
   "cell_type": "markdown",
   "id": "0a8adba7",
   "metadata": {},
   "source": [
    "### 13.4 – Summary\n",
    "\n",
    "An exception is a signal (message) that something “out-of-the-ordinary” has happened and that the normal flow-of-control needs to be abandoned: \n",
    "\n",
    "- When an exception is raised, Python searches its run-time-stack for a `try:except`: block that can appropriately deal with the condition. \n",
    "\n",
    "- The first `try:except:` block that knows how to deal with the issue is executed and then flow-of-control is returned to its normal sequential execution. \n",
    "\n",
    "- If no appropriate `try:except:` block is found within the call chain, the program “crashes” and prints its run-time-stack to the console."
   ]
  },
  {
   "cell_type": "markdown",
   "id": "435a1ee1",
   "metadata": {},
   "source": [
    "But even if we have a `try:except:` block, it ***might not*** catch the specific exception that's thrown."
   ]
  },
  {
   "cell_type": "markdown",
   "id": "08242dd1",
   "metadata": {},
   "source": [
    "__Example__: thrown exception is `MyException` but handler only catches thrown `ZeroDivisionError`"
   ]
  },
  {
   "cell_type": "markdown",
   "id": "91d0bfa1",
   "metadata": {},
   "source": [
    "<img src=\"images/_13_4_1-image.png\" width=\"600\" height=\"600\" align=\"left\"/>"
   ]
  },
  {
   "cell_type": "markdown",
   "id": "ce806c82",
   "metadata": {},
   "source": [
    "### 13.5 – Standard Exceptions\n",
    "\n",
    "Exceptions are ___objects___ of some ___exception class___.\n",
    "\n",
    "Exception classes are organized in an ***inheritance hierarchy***, with base/parent classes having derived/child subclasses.\n",
    "\n",
    "- Child classes ___inherit___ from their parent classes.\n",
    "\n",
    "Picture of Python's exception hierarchy:"
   ]
  },
  {
   "cell_type": "markdown",
   "id": "548b43f5",
   "metadata": {},
   "source": [
    "<img src=\"images/_13_5_2_1-image.jpg\" width=\"400\" height=\"600\" align=\"left\"/>\n",
    "\n",
    "<img src=\"images/_13_5_2_2-image.jpg\" width=\"400\" height=\"600\" align=\"left\"/>"
   ]
  },
  {
   "cell_type": "markdown",
   "id": "dcc4104a",
   "metadata": {},
   "source": [
    "Important! ***An `except:` handler for the parent class of a set of related exceptions will catch all exception messages for itself and its child exceptions.***\n",
    "\n",
    "For example, an `ArithmeticError` exception (handler) catches itself and all subclass-exception types like `FloatingPointError`, `OverflowError`, and `ZeroDivisionError`. "
   ]
  },
  {
   "cell_type": "markdown",
   "id": "052dea6c",
   "metadata": {},
   "source": [
    "### 13.6 – Principles for Using Exceptions\n",
    "\n",
    "If a `try:except:` block is in the same function that raises the exception, you are probably misusing exceptions. "
   ]
  },
  {
   "cell_type": "markdown",
   "id": "03e0a162",
   "metadata": {},
   "source": [
    "***Principle 1***: If a condition can be handled using the normal flow-of-control, don’t use an exception!"
   ]
  },
  {
   "cell_type": "markdown",
   "id": "e2e02d97",
   "metadata": {},
   "source": [
    "<img src=\"images/_13_6_1-image.png\" width=\"600\" height=\"800\" align=\"left\"/>\n"
   ]
  },
  {
   "cell_type": "markdown",
   "id": "b65c76fc",
   "metadata": {},
   "source": [
    "***Principle 2***: If you call a function that potentially raises exceptions, and you can do something appropriate to deal with the exception, then surround the code that contains the function call with a `try:except:` block."
   ]
  },
  {
   "cell_type": "markdown",
   "id": "b90b60f1",
   "metadata": {},
   "source": [
    "<img src=\"images/_13_6_2-image.png\" width=\"600\" height=\"800\" align=\"left\"/>\n"
   ]
  },
  {
   "cell_type": "markdown",
   "id": "a7ffc81e",
   "metadata": {},
   "source": [
    "***Principle 3***: If you call a function that potentially raises exceptions, and you can’t do anything meaningful about the conditions that are raised, then ***don’t*** catch the exception message(s)."
   ]
  },
  {
   "cell_type": "markdown",
   "id": "05b0697f",
   "metadata": {},
   "source": [
    "### 13.6. Principles for using Exceptions"
   ]
  },
  {
   "cell_type": "markdown",
   "id": "be10cf70",
   "metadata": {},
   "source": [
    "### 13.7 – Exceptions Syntax\n",
    "\n",
    "Most exception usage is summarized as follows:"
   ]
  },
  {
   "cell_type": "markdown",
   "id": "e038ae40",
   "metadata": {},
   "source": [
    "___13.7.1 To Catch All Exceptions:___ \n",
    "\n",
    "To catch all exceptions, no matter their type:\n",
    "\n",
    "<img src=\"images/_13_7_1-image.jpg\" width=\"800\" height=\"800\" align=\"left\"/>"
   ]
  },
  {
   "cell_type": "markdown",
   "id": "f83dc908",
   "metadata": {},
   "source": [
    "___13.7.2 To Catch a Specific Exception:___\n",
    "\n",
    "Most common is to catch one kind of exception then try recovering:\n",
    "\n",
    "<img src=\"images/_13_7_2-image.jpg\" width=\"800\" height=\"800\" align=\"left\"/>"
   ]
  },
  {
   "cell_type": "markdown",
   "id": "2d9ce106",
   "metadata": {},
   "source": [
    "___13.7.3 To Catch Multiple Specific Exceptions:___ \n",
    "\n",
    "If you want to handle multiple exceptions within same `try`-block, use multiple `except:` handlers:\n",
    "\n",
    "<img src=\"images/_13_7_3-image.jpg\" width=\"800\" height=\"800\" align=\"left\"/>"
   ]
  },
  {
   "cell_type": "markdown",
   "id": "51bf1e46",
   "metadata": {},
   "source": [
    "___13.7.4 To Clean Up After Exceptions using the `finally:` block___\n",
    "\n",
    "If you want code to be executed even if exceptions occur, use a `finally:` block:\n",
    "\n",
    "<img src=\"images/_13_7_4-image.jpg\" width=\"800\" height=\"800\" align=\"left\"/>"
   ]
  },
  {
   "cell_type": "markdown",
   "id": "1ece9eed",
   "metadata": {},
   "source": [
    "___13.7.5 An Example of File I/O:___\n",
    "\n",
    "Reading or writing to a file often involves exceptions (no such file, etc).\n",
    "\n",
    "`finally:` code guarantees the file is closed properly, no matter what exception is thrown:\n",
    " \n",
    "<img src=\"images/_13_7_5-image.jpg\" width=\"800\" height=\"800\" align=\"left\"/>"
   ]
  },
  {
   "cell_type": "markdown",
   "id": "aa5ff4eb",
   "metadata": {},
   "source": [
    "### 13.8. The `finally` clause of the `try` statement\n",
    "\n"
   ]
  },
  {
   "cell_type": "markdown",
   "id": "5f9b69aa",
   "metadata": {},
   "source": [
    "Commonly we grab a resource of some kind at start of processing.\n",
    "\n",
    "\n",
    "- Create a window for turtles to draw on;  \n",
    "- Dial up a connection to our internet service provider (***really???***);  \n",
    "- Open a file for writing.    \n",
    "\n",
    "Then execute code which may raise an exception - or not.\n",
    "\n",
    "Whatever happens, we can use `finally` clause to “clean up” the resources we grabbed.\n",
    "\n",
    "Example (must run in PyCharm due to turtle graphics):\n",
    "\n",
    "<img src=\"images/pycharm.png\" width=\"20\" height=\"20\" align=\"left\"/> _13_8_1_ch13_7_1.py"
   ]
  },
  {
   "cell_type": "markdown",
   "id": "f72119cd",
   "metadata": {},
   "source": [
    "### 13.9 – Glossary"
   ]
  },
  {
   "cell_type": "markdown",
   "id": "817dbc61",
   "metadata": {},
   "source": [
    "Know these!\n",
    "\n",
    "\n",
    "***exception***\n",
    "\n",
    "An error that occurs at runtime.\n",
    "\n",
    "***handle an exception***\n",
    "\n",
    "To prevent an exception from terminating a program by wrapping the block of code in a `try` / `except` construct.\n",
    "\n",
    "***`raise`***\n",
    "\n",
    "To cause an exception by using the `raise` statement."
   ]
  }
 ],
 "metadata": {
  "kernelspec": {
   "display_name": "Python 3 (ipykernel)",
   "language": "python",
   "name": "python3"
  },
  "language_info": {
   "codemirror_mode": {
    "name": "ipython",
    "version": 3
   },
   "file_extension": ".py",
   "mimetype": "text/x-python",
   "name": "python",
   "nbconvert_exporter": "python",
   "pygments_lexer": "ipython3",
   "version": "3.9.7"
  }
 },
 "nbformat": 4,
 "nbformat_minor": 5
}
