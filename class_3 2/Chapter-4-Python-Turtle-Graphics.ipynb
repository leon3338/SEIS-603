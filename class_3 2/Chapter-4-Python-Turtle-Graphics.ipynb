{
 "cells": [
  {
   "cell_type": "markdown",
   "id": "49b76bdd",
   "metadata": {},
   "source": [
    "Reading Lecture HTT4 \n",
    "\n",
    "## Chapter 4: Python Turtle Graphics \n",
    "\n",
    "based on \"How to Think Like a Computer Scientist in Python\":\n",
    "\n",
    "<https://runestone.academy/runestone/books/published/thinkcspy/PythonTurtle/toctree.html>\n",
    "\n",
    "___Summaries and this notebook by___:  \n",
    "\n",
    "Eric V. Level  \n",
    "Graduate Programs in Software  \n",
    "University of St. Thomas, St. Paul, MN  "
   ]
  },
  {
   "cell_type": "markdown",
   "id": "ea84a398",
   "metadata": {},
   "source": [
    "Note: Python's `turtle` module relies on windowing modules that are incompatible with IPython notebooks.  \n",
    "\n",
    "Thus, in this Notebook, all turtle graphic code examples ***should*** be run within PyCharm... \n",
    "\n",
    "You can run the examples, but they won't terminate correctly..."
   ]
  },
  {
   "cell_type": "markdown",
   "id": "c0208901",
   "metadata": {},
   "source": [
    "- <img src=\"images/pycharm.png\" width=\"30\" height=\"30\" align=\"left\"/>  in this and other HTT Chapter notebooks indicates that the code example should be run within PyCharm: \n",
    "- Find the referenced `.py` file within `HTT4_code` in the `lab_4_starting` folder."
   ]
  },
  {
   "cell_type": "markdown",
   "id": "cc392b89",
   "metadata": {},
   "source": [
    "### 4.1 – Hello Little Turtles!\n",
    "\n",
    "Python includes the **`turtle`** module (== Python library).\n",
    "\n",
    "Import it at the start your scripts:     "
   ]
  },
  {
   "cell_type": "markdown",
   "id": "87c61ab1",
   "metadata": {},
   "source": [
    "    import turtle             # allows us to use the turtles library\n",
    "    wn = turtle.Screen()      # creates a graphics window\n",
    "    alex = turtle.Turtle()    # create a turtle named alex\n",
    "    alex.forward(150)         # tell alex to move forward by 150 units\n",
    "    alex.left(90)             # turn by 90 degrees\n",
    "    alex.forward(75)        # complete the second side of a rectangle"
   ]
  },
  {
   "cell_type": "markdown",
   "id": "1d5d245f",
   "metadata": {},
   "source": [
    "Turtle graphics is based on a simple model: the ***turtle***.\n",
    "\n",
    "One or more turtles moves about a screen area, drawing as they move.This provides access to \"turtle graphics\", so you can write Python that draws pictures.\n",
    "\n",
    "A single turtle has two characteristics or ***attributes***: ***location*** and ***heading***.\n",
    "\n",
    "Its ***location*** is its current position in `(x,y)` coordinates, with `(0,0)` at the center of the drawing area or \"canvas\".\n",
    "\n",
    "Its ***heading*** is the direction it faces: the angle it makes relative to the east in a counterclockwise direction.\n",
    "\n",
    "Programming a turtle involves two basic commands:\n",
    "\n",
    "- Changing location: `forward(N)`, `back(N)`   => move forward/backward `N` steps (pixels) in current heading\n",
    "\n",
    "- Changing heading:  `right(H)`, `left(H)` =>  turn counterclockwise (\"left\")/clockwise (\"right) from current heading by `H` degrees.\n",
    "\n",
    "A new `Turtle aturtle` starts at origin `(0,0)`, with heading 0 (east): the \"home location\"\n",
    "\n",
    "How to draw the picture below?  "
   ]
  },
  {
   "cell_type": "markdown",
   "id": "4c15a52c",
   "metadata": {},
   "source": [
    "<img src=\"images/image_4_1.png\" width=\"100\" height=\"100\" align=\"left\"/> "
   ]
  },
  {
   "cell_type": "markdown",
   "id": "9afbcb8b",
   "metadata": {},
   "source": [
    "Try running the program below... but it won't terminate.  \n",
    "\n",
    "We'll run it in PyCharm later..."
   ]
  },
  {
   "cell_type": "code",
   "execution_count": null,
   "id": "df19186f",
   "metadata": {},
   "outputs": [],
   "source": [
    "import turtle               # allows us to use the turtles library\n",
    "wn = turtle.Screen()        # creates a graphics window\n",
    "alex = turtle.Turtle()      # create a turtle named alex\n",
    "alex.pensize(10)\n",
    "alex.color(\"red\")\n",
    "alex.forward(150)           # tell alex to move forward by 150 units\n",
    "alex.left(45)               # turn by 45 degrees\n",
    "alex.forward(75)            # move forward 75, now at an angle to the first line\n",
    "wn.exitonclick() # ADDED: keeps window visible until mouse click\n"
   ]
  },
  {
   "cell_type": "markdown",
   "id": "0b8b7ea5",
   "metadata": {},
   "source": [
    "`aturtle.forward(150)` moves forward 150 units,  drawing the vertical line as it moves  \n",
    "`aturtle.left(90)` makes it head north  \n",
    "`aturtle.forward(75)` draws the vertical line  \n",
    "\n",
    "Final state of `aturtle` is: \n",
    "- Position (150, 75)\n",
    "- Heading 90"
   ]
  },
  {
   "cell_type": "markdown",
   "id": "61d8c8d2",
   "metadata": {},
   "source": [
    "### 4.2 – Our First Turtle Program\n",
    "\n",
    "A simple turtle program: \n",
    "\n",
    "    import turtle          # allows access to turtles module \n",
    "    wn = turtle.Screen()   # creates a graphics window wn \n",
    "    alex = turtle.Turtle() # create a turtle named alex \n",
    "    alex.forward(150)      # move alex forward 150 steps \n",
    "    alex.left(90)          # turn alex ccw by 90 degrees \n",
    "    alex.forward(75)       # draw second side of a rectangle \n",
    "    wn.exitonclick()\t # ADDED: keeps window open until click\n",
    "\n",
    "<img src=\"images/pycharm.png\" width=\"30\" height=\"30\" align=\"left\"/> `_4_2_1_ch03_0.py` \n",
    "\n",
    "`Screen` object is created via call to `Screen` **constructor** `turtle.Screen()`.\n",
    "\n",
    "Turtle object `alex` created via call to `Turtle` **constructor** `turtle.Turtle()`.\n",
    "\n",
    "`alex` draws via method calls `alex.forward()` and `alex.left()`\n",
    "\n",
    "Important Python concepts: \n",
    "- module `turtle`\n",
    "- classes `Screen` and `Turtle`\n",
    "- constructors `Screen()` and `Turtle()`\n",
    "- methods `forward()` and `left()`\n",
    "\n",
    "***Constructors*** are like \"factories\" that create and initialize objects of their class type.\n",
    "\n",
    "***Methods*** are like \"messages\" that are sent to these objects, requesting actions to be performed: \"invoke a method against the object\"\n",
    "\n",
    "`alex.forward(150)` => send alex a message to change its location by 150 steps, moving forward from its current position\n",
    "\n",
    "- The **period operator .** connects a specific object to a specific method.\n",
    "\n",
    "***Classes*** define the internal structure of its created objects or instances, along with their methods and how they behave.  \n",
    "\n",
    "### This is object-oriented programming!\n",
    "\n",
    "***Objects*** contain individual data values: ***attributes*** or ***properties***.\n",
    "\n",
    "The ***state*** of an object: the collection of these attributes at some point in time.\n",
    "\n",
    "Each `Turtle` object such as `alex` has common set of attributes: position, heading, pen color, turtle color, etc.\n",
    "\n",
    "Access an object's attribute using `.` operator: `alex._pencolor`\n",
    "\n",
    "To alter attributes of object: call a method or assign to the attribute directly\n",
    "\n",
    "    alex.color(\"red\") \n",
    "        # changes str attribute _pencolor of alex to \"red\"\n",
    "    alex._pencolor=\"red\" \n",
    "        # does same thing, assigning directly to attribute\n",
    "\n",
    "Method calls are the __preferred way__ to change attribute states…\n",
    "\n",
    "Some more examples:"
   ]
  },
  {
   "cell_type": "markdown",
   "id": "04865bb9",
   "metadata": {},
   "source": [
    "<img src=\"images/pycharm.png\" width=\"30\" height=\"30\" align=\"left\"/> `_4_2_2_ch03_0.py` "
   ]
  },
  {
   "cell_type": "markdown",
   "id": "8c211b89",
   "metadata": {},
   "source": [
    "<img src=\"images/pycharm.png\" width=\"30\" height=\"30\" align=\"left\"/> `_4_2_3_ch03_2.py` "
   ]
  },
  {
   "cell_type": "markdown",
   "id": "4e10d1e6",
   "metadata": {},
   "source": [
    "### 4.3 – Instances – A Herd of Turtles\n",
    "\n",
    "May create multiple Turtle ***instances*** in your scripts.\n",
    "- Instance => An independent object of some class\n",
    "\n",
    "Each instance has its own attributes (state).\n",
    "\n",
    "Each instance can be changed independently of others."
   ]
  },
  {
   "cell_type": "markdown",
   "id": "7da0834c",
   "metadata": {},
   "source": [
    "<img src=\"images/pycharm.png\" width=\"30\" height=\"30\" align=\"left\"/> `_4_3_1_ch03_3.py` "
   ]
  },
  {
   "cell_type": "markdown",
   "id": "edda553a",
   "metadata": {},
   "source": [
    "### 4.4 – The `for` Loop\n",
    "\n",
    "Repeat blocks of statements using the `for` loop: ***iteration***.\n",
    "\n",
    "Example (note colon `:` at end of `for` loop header) --  "
   ]
  },
  {
   "cell_type": "code",
   "execution_count": null,
   "id": "a7ca42ee",
   "metadata": {},
   "outputs": [],
   "source": [
    "for name in [\"Larry\",\"Moe\",\"Curly\",\"Shemp\",\"Joe\",\"Curly Joe\"]:         \n",
    "    print(\"Stooge:\", name)\n",
    "    print (\"Another stooge...\")"
   ]
  },
  {
   "cell_type": "markdown",
   "id": "2150d13a",
   "metadata": {},
   "source": [
    "`name` is the ***loop variable***\n",
    "`[..]` is a ***list of strings*** (`str`)\n",
    "\n",
    "`print(...)` is the ***loop body*** (always indented)\n",
    "\n",
    "- When executed, `name` is assigned one of list elements in order given, then loop body executed once.\n",
    "\n",
    "- Repeat (iterate) for each element of list."
   ]
  },
  {
   "cell_type": "markdown",
   "id": "aeb86a64",
   "metadata": {},
   "source": [
    "<img src=\"images/pycharm.png\" width=\"30\" height=\"30\" align=\"left\"/> `_4_4_1_ch03_4.py` "
   ]
  },
  {
   "cell_type": "markdown",
   "id": "7810981c",
   "metadata": {},
   "source": [
    "### 4.5 – Flow of Execution of the for Loop\n",
    "\n",
    "`for` statements provide ***non-sequential control flow***.\n",
    "\n",
    "A flow chart describes this:\n",
    "\n",
    "<img src=\"images/flowchart.png\" width=\"200\" height=\"300\" align=\"left\"/>"
   ]
  },
  {
   "cell_type": "markdown",
   "id": "713afede",
   "metadata": {},
   "source": [
    "### 4.6 – Iteration Simplifies Our Turtle Program\n",
    "\n",
    "Iteration via `for` loops allow us to \"factor out\" repeated code patterns, shortening our programs.\n",
    "\n",
    "Example:\n",
    "\n",
    "    alex.forward(50)\n",
    "    alex.left(90)  \n",
    "    alex.forward(50)\n",
    "    alex.left(90) \n",
    "    alex.forward(50)\n",
    "    alex.left(90)\n",
    "    alex.forward(50)\n",
    "    alex.left(90)\n",
    "    \n",
    "Equivalent version with `for`: \t\n",
    "\n",
    "    for i in [0, 1, 2, 3]: # repeat four times           \n",
    "        alex.forward(50)         \n",
    "        alex.left(90)\n",
    "        \n",
    "<img src=\"images/pycharm.png\" width=\"30\" height=\"30\" align=\"left\"/> `_4_6_1_ch03_for1.py`   \n",
    "\n",
    "<img src=\"images/pycharm.png\" width=\"30\" height=\"30\" align=\"left\"/> `_4_6_2_ch03_forcolor.py` "
   ]
  },
  {
   "cell_type": "markdown",
   "id": "c4b9a676",
   "metadata": {},
   "source": [
    "In previous, `i` counts 0 thru 3, but `i`'s value isn't used in loop body."
   ]
  },
  {
   "cell_type": "markdown",
   "id": "6e4150c9",
   "metadata": {},
   "source": [
    "Here, we use the loop variable value to draw a square with each side a different color: \t\n",
    "\n",
    "    for aColor in [\"red\", \"green\", \"yellow\", \"blue\"]:      \n",
    "        alex.color(aColor)     \n",
    "        alex.forward(50)         \n",
    "        alex.left(90)"
   ]
  },
  {
   "cell_type": "markdown",
   "id": "dbee771c",
   "metadata": {},
   "source": [
    "<img src=\"images/pycharm.png\" width=\"50\" height=\"50\" align=\"left\"/> `_4_6_3_ch03_colorlist.py` "
   ]
  },
  {
   "cell_type": "markdown",
   "id": "2692fb45",
   "metadata": {},
   "source": [
    "`for` is a ***compound statement*** and is executed **completely** before continuing with following statement.\n",
    "\n",
    "The collection of indented loop body elements is \n",
    "\n",
    "One execution repeats loop body statements, multiple times."
   ]
  },
  {
   "cell_type": "markdown",
   "id": "54f51a34",
   "metadata": {},
   "source": [
    "### 4.7 – The `range` Function\n",
    "\n",
    "Python's `range()` function gives another shortcut.\n",
    "\n",
    "`range(N)` generates values `0,1,…,N-1` within `for` loop: "
   ]
  },
  {
   "cell_type": "code",
   "execution_count": null,
   "id": "9f6a973c",
   "metadata": {},
   "outputs": [],
   "source": [
    "for x in range(10):     # Loop body executed with x as 0, 1, 2, .. in turn\n",
    "    print (x)"
   ]
  },
  {
   "cell_type": "markdown",
   "id": "1538ff8d",
   "metadata": {},
   "source": [
    "Equivalent to: "
   ]
  },
  {
   "cell_type": "code",
   "execution_count": null,
   "id": "34be3492",
   "metadata": {},
   "outputs": [],
   "source": [
    "for x in [0,1,2,3,4,5,6,7,8,9]:\n",
    "    print (x)\n",
    "    # Same as above… but much more tedious     \n",
    "    # what if we want to count to 1000?"
   ]
  },
  {
   "cell_type": "markdown",
   "id": "df00f0b4",
   "metadata": {},
   "source": [
    "`range(start,stop)` generates values from `start` though `stop-1`, one value at a time."
   ]
  },
  {
   "cell_type": "markdown",
   "id": "b779211c",
   "metadata": {},
   "source": [
    "<img src=\"images/pycharm.png\" width=\"30\" height=\"30\" align=\"left\"/> `_4_7_1_ch03_5.py` "
   ]
  },
  {
   "cell_type": "markdown",
   "id": "3f07990a",
   "metadata": {},
   "source": [
    "`range(start,stop,inc)` generates `start`, `start+inc`, `start+2*inc`… stopping when next value is >= stop."
   ]
  },
  {
   "cell_type": "markdown",
   "id": "2b96fc1f",
   "metadata": {},
   "source": [
    "<img src=\"images/pycharm.png\" width=\"30\" height=\"30\" align=\"left\"/> `_4_7_2_ch03_6.py` "
   ]
  },
  {
   "cell_type": "markdown",
   "id": "f67955fc",
   "metadata": {},
   "source": [
    "To get a list from `range()`, change its type: \n",
    "\n",
    "    list(range(1,10))\n",
    "\n",
    "is equivalent to\n",
    "    \n",
    "    [0,1,2,3,4,5,6,7,8,9]\n"
   ]
  },
  {
   "cell_type": "code",
   "execution_count": null,
   "id": "10a8c652",
   "metadata": {},
   "outputs": [],
   "source": [
    "print (range(1,10)) # range is internal generator and won't print directly\n",
    "print (list(range(1,10))) # but we can 'listify' it to see all its values"
   ]
  },
  {
   "cell_type": "markdown",
   "id": "8a0089f4",
   "metadata": {},
   "source": [
    "### 4.8 – A Few More Turtle Methods and Observations    \n",
    "\n",
    "`forward(-10)` moves turtle backwards: `backward(10)` is equivalent.\t\n",
    "\n",
    "`right(90)` equivalent to `left(-90)`,  `left(90)` to `right(-90)`.\n",
    "\n",
    "Turtle pen can be up or down.  Turtle draws **only** when pen is down: \t\n",
    "\n",
    "    alex.up()\n",
    "    alex.forward(100) # move turtle, don't draw\n",
    "\n",
    "A turtle has a shape, changed by `shape(astr)`\n",
    "\n",
    "`astr` can be any of:\n",
    "- `'arrow'`\n",
    "- `'blank'`\n",
    "- `'circle'`\n",
    "- `'classic'`\n",
    "- `'square'`\n",
    "- `'triangle'`\n",
    "- `'turtle'`\n",
    "\n",
    "Turtle animation speed controlled by `speed(int)`: 1 slowest, 10 fastest, 0 => hide shape & go fastest "
   ]
  },
  {
   "cell_type": "markdown",
   "id": "53a33735",
   "metadata": {},
   "source": [
    "<img src=\"images/pycharm.png\" width=\"30\" height=\"30\" align=\"left\"/> `_4_8_1_ch03_7.py` "
   ]
  },
  {
   "cell_type": "markdown",
   "id": "0a546b52",
   "metadata": {},
   "source": [
    "### 4.9 – Summary of Turtle Methods\n",
    "\n",
    "<https://runestone.academy/runestone/books/published/thinkcspy/PythonTurtle/SummaryofTurtleMethods.html#summary-of-turtle-methods>\n",
    "\n",
    "The `python.org` web site contains official documentation about the turtle module – and others. \n",
    "\n",
    "Turtle graphics module:  <https://docs.python.org/3/library/turtle.html>\n",
    "\n",
    "Complete Python documentation: <https://docs.python.org/3.8/index.html>"
   ]
  },
  {
   "cell_type": "markdown",
   "id": "8a980bad",
   "metadata": {},
   "source": [
    "### 4.10 - Glossary\n",
    "\n",
    "These terms are important to know!\n",
    "\n",
    "\n",
    "\n",
    "***attribute***\n",
    "\n",
    "Some state or value that belongs to a particular object. For example, `tess` has a color.\n",
    "\n",
    "***canvas***\n",
    "\n",
    "A surface within a window where drawing takes place.\n",
    "\n",
    "***control flow***\n",
    "\n",
    "See flow of execution in the next chapter.\n",
    "\n",
    "***`for` loop***\n",
    "\n",
    "A statement in Python for convenient repetition of statements in the body of the loop.\n",
    "\n",
    "***instance***\n",
    "\n",
    "An object that belongs to a class. `tess` and `alex` are different instances of the class `Turtle`\n",
    "\n",
    "***invoke***\n",
    "\n",
    "An object has methods. We use the verb invoke to mean activate the method. Invoking a method is done by putting parentheses after the method name, with some possible arguments. So `wn.exitonclick()` is an invocation of the exitonclick method.\n",
    "\n",
    "***iteration***\n",
    "\n",
    "A basic building block for algorithms (programs). It allows steps to be repeated. Sometimes called **looping**.\n",
    "\n",
    "***loop body***\n",
    "\n",
    "Any number of statements nested inside a loop. The nesting is indicated by the fact that the statements are indented under the `for` loop statement.\n",
    "\n",
    "***loop variable***\n",
    "\n",
    "A variable used as part of a `for` loop. It is assigned a different value on each iteration of the loop, and is used as part of the terminating condition of the loop, when it can no longer get a further value.\n",
    "\n",
    "***method***\n",
    "\n",
    "A function that is attached to an object. Invoking or activating the method causes the object to respond in some way, e.g. `forward` is the method when we say `tess.forward(100)`.\n",
    "\n",
    "***module***\n",
    "\n",
    "A file containing Python definitions and statements intended for use in other Python programs. The contents of a module are made available to the other program by using the import statement.\n",
    "\n",
    "***object***\n",
    "\n",
    "A “thing” to which a variable can refer. This could be a screen window, or one of the turtles you have created.\n",
    "\n",
    "***`range`***\n",
    "\n",
    "A built-in function in Python for generating sequences of integers. It is especially useful when we need to write a for loop that executes a fixed number of times.\n",
    "\n",
    "***sequential***\n",
    "\n",
    "The default behavior of a program. Step by step processing of algorithm.\n",
    "\n",
    "***state***\n",
    "\n",
    "The collection of attribute values that a specific data object maintains.\n",
    "\n",
    "***terminating condition***\n",
    "\n",
    "A condition that occurs which causes a loop to stop repeating its body. In the for loops we saw in this chapter, the terminating condition has been when there are no more elements to assign to the loop variable.\n",
    "\n",
    "***turtle***\n",
    "\n",
    "A data object used to create pictures (known as ***turtle graphics***).\n"
   ]
  },
  {
   "cell_type": "code",
   "execution_count": null,
   "id": "15628f79",
   "metadata": {},
   "outputs": [],
   "source": []
  }
 ],
 "metadata": {
  "kernelspec": {
   "display_name": "Python 3 (ipykernel)",
   "language": "python",
   "name": "python3"
  },
  "language_info": {
   "codemirror_mode": {
    "name": "ipython",
    "version": 3
   },
   "file_extension": ".py",
   "mimetype": "text/x-python",
   "name": "python",
   "nbconvert_exporter": "python",
   "pygments_lexer": "ipython3",
   "version": "3.9.7"
  }
 },
 "nbformat": 4,
 "nbformat_minor": 5
}
